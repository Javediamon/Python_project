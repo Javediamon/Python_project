{
  "nbformat": 4,
  "nbformat_minor": 0,
  "metadata": {
    "colab": {
      "provenance": [],
      "include_colab_link": true
    },
    "kernelspec": {
      "name": "python3",
      "display_name": "Python 3"
    },
    "language_info": {
      "name": "python"
    }
  },
  "cells": [
    {
      "cell_type": "markdown",
      "metadata": {
        "id": "view-in-github",
        "colab_type": "text"
      },
      "source": [
        "<a href=\"https://colab.research.google.com/github/Javediamon/Python_project/blob/main/California_Housing_Dataset.ipynb\" target=\"_parent\"><img src=\"https://colab.research.google.com/assets/colab-badge.svg\" alt=\"Open In Colab\"/></a>"
      ]
    },
    {
      "cell_type": "markdown",
      "source": [
        "**INTRODUCTION:** This dataset provides a concise overview of California housing data. Through an analysis of this dataset, our primary objective is to estimate the expected prices of houses in California. The fundamental goal of working with this dataset is to make predictions regarding the median house prices in the state. The dataset encompasses various features, including:"
      ],
      "metadata": {
        "id": "lu3F9Vj21inR"
      }
    },
    {
      "cell_type": "markdown",
      "source": [
        "**FEATURES:**\n",
        "\n",
        "1.L**ongitude:** It represents the horizontal positioning of a house, indicating its location from west to east. A greater longitude value signifies a westward position. This attribute is categorized as **numerical data**, specifically as **continuous data** in statistical terms.\n",
        "\n",
        "2.**Latitude:** It represents the vertical positioning of a house, indicating its location in a northward direction. A higher latitude value signifies a northern location. In statistical terms, this attribute is classified as **numerical data** and specifically falls under the category of **continuous data.**\n",
        "\n",
        "\n",
        "3.**housing_median_age:**  Denotes the median age of houses. In statistical terms, it is considered a **quantitative data** type, specifically falling within the category of **continuous data.**\n",
        "\n",
        "4.**total_rooms:** It represents the count of rooms within a block. In statistical terms, it is categorized as **quantitative data**, specifically belonging to the **discrete data type**.\n",
        "\n",
        "5.**total_bedrooms:** Indicates the total count of bedrooms within a block. In statistical terms, this attribute is classified as **quantitative data**, specifically falling under the **discrete data** category.\n",
        "\n",
        "6.**population:**Total number of people residing within a block.Statistically it is of **quantitative data** type,i.e.,**discrete data**.\n",
        "\n",
        "7.**households:**Total number of households,a group of people residing within a homeunit.Statistically it is of **quantitative data** type,i.e.,**discrete data**.\n",
        "\n",
        "8.**median_income:**Median income of households within a block of houses.It comes under **continuous data**.\n",
        "\n",
        "9.**median_house_value:** Median house value for households within a block. It comes under **continuous data**.\n",
        "\n",
        "10.**Ocean_proximity:**Location of the house with respect to ocean.Statistically it is of **categorical data** i.e.,it is of **nominal data** type.\n",
        "\n"
      ],
      "metadata": {
        "id": "657_YkeX16Hf"
      }
    },
    {
      "cell_type": "code",
      "execution_count": null,
      "metadata": {
        "id": "ubnwe45WR3kJ"
      },
      "outputs": [],
      "source": [
        "import numpy as np    # Linear Algebra\n",
        "import pandas as pd   # Data Processing ,CSV fine I/O\n",
        "import matplotlib.pyplot as plt   # Creates Plots\n",
        "import seaborn as sns   # Creates Plots\n"
      ]
    },
    {
      "cell_type": "code",
      "source": [
        "#importing file from a local folder\n",
        "\n",
        "housing = pd.read_excel('housing+(1).xlsx')   # The file reading\n",
        "\n",
        "#print output\n",
        "\n",
        "housing"
      ],
      "metadata": {
        "id": "xy0jVUfuS0ya"
      },
      "execution_count": null,
      "outputs": []
    },
    {
      "cell_type": "code",
      "source": [
        "housing.shape   # shape func() gives us the total number of rows and columns present in a dataset."
      ],
      "metadata": {
        "id": "wFIVbp5dcELW"
      },
      "execution_count": null,
      "outputs": []
    },
    {
      "cell_type": "code",
      "source": [
        "housing.head()   # head() returns first 5 rows of the dataset"
      ],
      "metadata": {
        "id": "Aw393CgYAHXQ"
      },
      "execution_count": null,
      "outputs": []
    },
    {
      "cell_type": "code",
      "source": [
        "housing.info()   #The info function is used to get information about dataset."
      ],
      "metadata": {
        "colab": {
          "base_uri": "https://localhost:8080/"
        },
        "id": "jRZEwnjKcTml",
        "outputId": "e4753c4f-3225-4f52-ffd2-ef71dcb8e2ad"
      },
      "execution_count": null,
      "outputs": [
        {
          "output_type": "stream",
          "name": "stdout",
          "text": [
            "<class 'pandas.core.frame.DataFrame'>\n",
            "RangeIndex: 20640 entries, 0 to 20639\n",
            "Data columns (total 10 columns):\n",
            " #   Column              Non-Null Count  Dtype  \n",
            "---  ------              --------------  -----  \n",
            " 0   longitude           20640 non-null  float64\n",
            " 1   latitude            20640 non-null  float64\n",
            " 2   housing_median_age  20640 non-null  int64  \n",
            " 3   total_rooms         20640 non-null  int64  \n",
            " 4   total_bedrooms      20433 non-null  float64\n",
            " 5   population          20640 non-null  int64  \n",
            " 6   households          20640 non-null  int64  \n",
            " 7   median_income       20640 non-null  float64\n",
            " 8   median_house_value  20640 non-null  int64  \n",
            " 9   ocean_proximity     20640 non-null  object \n",
            "dtypes: float64(4), int64(5), object(1)\n",
            "memory usage: 1.6+ MB\n"
          ]
        }
      ]
    },
    {
      "cell_type": "markdown",
      "source": [
        " From the above it is to be noted that python reads :-\n",
        "\n",
        "* longitude,latitude,total_bedrooms,median_income **float**\n",
        "\n",
        "* housing_median_age,total_rooms,population,households,median_house_value as **int**\n",
        "\n",
        "* while python reads ocean_proxinity as **object**"
      ],
      "metadata": {
        "id": "_jFfs1hgdjx3"
      }
    },
    {
      "cell_type": "markdown",
      "source": [
        "**1. What is the average median income of the data set and check the distribution of data using appropriate plots. Please explain the distribution of the plot.**"
      ],
      "metadata": {
        "id": "l5lRXXrufkmL"
      }
    },
    {
      "cell_type": "code",
      "source": [
        "np.mean(housing['median_income'])   #mean()function gives the mean of the values for the requested axis."
      ],
      "metadata": {
        "colab": {
          "base_uri": "https://localhost:8080/"
        },
        "id": "H99pBniNgLT_",
        "outputId": "bb0440a0-87a6-4b1b-c4e6-c5ec0af18e87"
      },
      "execution_count": null,
      "outputs": [
        {
          "output_type": "execute_result",
          "data": {
            "text/plain": [
              "3.8706710029069766"
            ]
          },
          "metadata": {},
          "execution_count": 112
        }
      ]
    },
    {
      "cell_type": "markdown",
      "source": [
        "From the above code it is to be noted that average meadian income of data set is 3.870 that is 3.9"
      ],
      "metadata": {
        "id": "dP84J4jQgwE6"
      }
    },
    {
      "cell_type": "code",
      "source": [
        "housing.hist(bins =50,figsize=(20,15))      #Histogram is used to see the distribution of a numerical value\n",
        "plt.show()"
      ],
      "metadata": {
        "id": "6G3eAr3Pg_rs"
      },
      "execution_count": null,
      "outputs": []
    },
    {
      "cell_type": "markdown",
      "source": [
        "* From the above plot,it is to be noted that the **outliers** are\n",
        "present for housing_median_age and for median_house_value.\n",
        "\n",
        "* while total_rooms,total_bedrooms,population,households,median_income are of **Right skewed.**\n",
        "\n",
        "* While latitude and logitude are of **asymmetric,i.e.,highly skewed.**"
      ],
      "metadata": {
        "id": "zGV8VSvviHLd"
      }
    },
    {
      "cell_type": "markdown",
      "source": [
        "**2. Draw an appropriate plot to see the distribution of housing_median_age and explain your observations.**"
      ],
      "metadata": {
        "id": "We9XLhz2DT_k"
      }
    },
    {
      "cell_type": "code",
      "source": [
        "plt.hist(housing['housing_median_age'],color='red',edgecolor='k')    #Histogram is used to see the distribution of a numerical\n",
        "plt.xlabel('housing_median_age')         # x-axis=housing_median_age\n",
        "plt.ylabel('Frequency')        #  y-axis=Frequencies\n",
        "plt.title('Histogram-housing_median_age')    # Title of the graph\n",
        "plt.grid()                                          # for enabling the grid lines in graph for better visualisation"
      ],
      "metadata": {
        "id": "0WayMwCqiITd"
      },
      "execution_count": null,
      "outputs": []
    },
    {
      "cell_type": "markdown",
      "source": [
        "* From the above hist plot we can come to the analysis that it is distributed symmetrically.\n",
        "\n",
        "* we can know the skewness of the above plot by using  \n",
        "  Skewed =3*(mean-median)/std()"
      ],
      "metadata": {
        "id": "SOce9CV-IEHL"
      }
    },
    {
      "cell_type": "code",
      "source": [
        "mean=np.mean(housing['housing_median_age'])  # It gives mean of housing_median_age\n",
        "print(mean)"
      ],
      "metadata": {
        "colab": {
          "base_uri": "https://localhost:8080/"
        },
        "id": "Y8b8oHgVIkPE",
        "outputId": "39b538d8-5da8-442c-a5f9-c341dd96a3ac"
      },
      "execution_count": null,
      "outputs": [
        {
          "output_type": "stream",
          "name": "stdout",
          "text": [
            "28.639486434108527\n"
          ]
        }
      ]
    },
    {
      "cell_type": "code",
      "source": [
        "median=np.median(housing['housing_median_age'])    # It gives median of housing_median_age\n",
        "print(median)"
      ],
      "metadata": {
        "id": "ZOZd8pRPI9iY"
      },
      "execution_count": null,
      "outputs": []
    },
    {
      "cell_type": "code",
      "source": [
        "std=np.std(housing['housing_median_age'])         # It gives standard deviation of housing_median_age\n",
        "print(std)"
      ],
      "metadata": {
        "id": "43YL-n3KJDq_"
      },
      "execution_count": null,
      "outputs": []
    },
    {
      "cell_type": "code",
      "source": [
        "Skewed =3*(mean-median)/std    # This gived skewness value of housing_median_age\n",
        "print(Skewed)"
      ],
      "metadata": {
        "colab": {
          "base_uri": "https://localhost:8080/"
        },
        "id": "NdIyI6wRJetW",
        "outputId": "961d1fcb-e720-4bcf-de80-2c212739b03a"
      },
      "execution_count": null,
      "outputs": [
        {
          "output_type": "stream",
          "name": "stdout",
          "text": [
            "-0.08593714574072245\n"
          ]
        }
      ]
    },
    {
      "cell_type": "markdown",
      "source": [
        "* The Skewness of the above plot is -0.08 which lies between  -0.5 to -0.1.From this it is to be concluded that it is of perfectly symmetrical.\n",
        "\n",
        "\n",
        "* Finally,from the visualisation plot and from the Skewness it is to be noted that the housing_median_age is perfectly symmetrical."
      ],
      "metadata": {
        "id": "LJqmnCGzKg7d"
      }
    },
    {
      "cell_type": "markdown",
      "source": [
        "**3.Show with the help of visualization, how median_income and median_house_values are related?**"
      ],
      "metadata": {
        "id": "53loVTkTLnJe"
      }
    },
    {
      "cell_type": "code",
      "source": [
        "sns.scatterplot(x=\"median_house_value\",y=\"median_income\",data=housing,color='orange',ec='black')   #scatter plot gives a relation between two numerical values.\n",
        "                                                                        # X-Axis show median_house_value\n",
        "                                                                    # Y-Axis show median_income"
      ],
      "metadata": {
        "id": "JKTxdyQ-LFPV"
      },
      "execution_count": null,
      "outputs": []
    },
    {
      "cell_type": "markdown",
      "source": [
        "* From the above visualisation it is to be analysed that with an increase in the median_house_value there is also an increase in the median income.\n",
        "\n",
        "* While,an outlier is present in median_house_value which is shown in the graph .Therefore,median_house_value is directly proportional to median income."
      ],
      "metadata": {
        "id": "tZ8cF0vrM01Z"
      }
    },
    {
      "cell_type": "markdown",
      "source": [
        "**4.Create a data set by deleting the corresponding examples from the data set for which total_bedrooms are not available.**"
      ],
      "metadata": {
        "id": "hFlg91hbOAAf"
      }
    },
    {
      "cell_type": "code",
      "source": [
        "housing[housing.isnull().any(axis=1)]  #The isnull() method returns a DataFrame object where all the values are replaced with a Boolean value.\n",
        "                                       # True for NULL values, and otherwise False.\n",
        "                           #Here missing values are denoted by NaN"
      ],
      "metadata": {
        "colab": {
          "base_uri": "https://localhost:8080/",
          "height": 444
        },
        "id": "KuUgAgttN3M_",
        "outputId": "a7dfa6a6-7f38-4565-d1d8-850d588de7d4"
      },
      "execution_count": null,
      "outputs": [
        {
          "output_type": "execute_result",
          "data": {
            "text/plain": [
              "       longitude  latitude  housing_median_age  total_rooms  total_bedrooms  \\\n",
              "290      -122.16     37.77                  47         1256             NaN   \n",
              "341      -122.17     37.75                  38          992             NaN   \n",
              "538      -122.28     37.78                  29         5154             NaN   \n",
              "563      -122.24     37.75                  45          891             NaN   \n",
              "696      -122.10     37.69                  41          746             NaN   \n",
              "...          ...       ...                 ...          ...             ...   \n",
              "20267    -119.19     34.20                  18         3620             NaN   \n",
              "20268    -119.18     34.19                  19         2393             NaN   \n",
              "20372    -118.88     34.17                  15         4260             NaN   \n",
              "20460    -118.75     34.29                  17         5512             NaN   \n",
              "20484    -118.72     34.28                  17         3051             NaN   \n",
              "\n",
              "       population  households  median_income  median_house_value  \\\n",
              "290           570         218         4.3750              161900   \n",
              "341           732         259         1.6196               85100   \n",
              "538          3741        1273         2.5762              173400   \n",
              "563           384         146         4.9489              247100   \n",
              "696           387         161         3.9063              178400   \n",
              "...           ...         ...            ...                 ...   \n",
              "20267        3171         779         3.3409              220500   \n",
              "20268        1938         762         1.6953              167400   \n",
              "20372        1701         669         5.1033              410700   \n",
              "20460        2734         814         6.6073              258100   \n",
              "20484        1705         495         5.7376              218600   \n",
              "\n",
              "      ocean_proximity  \n",
              "290          NEAR BAY  \n",
              "341          NEAR BAY  \n",
              "538          NEAR BAY  \n",
              "563          NEAR BAY  \n",
              "696          NEAR BAY  \n",
              "...               ...  \n",
              "20267      NEAR OCEAN  \n",
              "20268      NEAR OCEAN  \n",
              "20372       <1H OCEAN  \n",
              "20460       <1H OCEAN  \n",
              "20484       <1H OCEAN  \n",
              "\n",
              "[207 rows x 10 columns]"
            ],
            "text/html": [
              "\n",
              "  <div id=\"df-20d3d1fd-1373-4721-8f3c-4d9689356e6b\" class=\"colab-df-container\">\n",
              "    <div>\n",
              "<style scoped>\n",
              "    .dataframe tbody tr th:only-of-type {\n",
              "        vertical-align: middle;\n",
              "    }\n",
              "\n",
              "    .dataframe tbody tr th {\n",
              "        vertical-align: top;\n",
              "    }\n",
              "\n",
              "    .dataframe thead th {\n",
              "        text-align: right;\n",
              "    }\n",
              "</style>\n",
              "<table border=\"1\" class=\"dataframe\">\n",
              "  <thead>\n",
              "    <tr style=\"text-align: right;\">\n",
              "      <th></th>\n",
              "      <th>longitude</th>\n",
              "      <th>latitude</th>\n",
              "      <th>housing_median_age</th>\n",
              "      <th>total_rooms</th>\n",
              "      <th>total_bedrooms</th>\n",
              "      <th>population</th>\n",
              "      <th>households</th>\n",
              "      <th>median_income</th>\n",
              "      <th>median_house_value</th>\n",
              "      <th>ocean_proximity</th>\n",
              "    </tr>\n",
              "  </thead>\n",
              "  <tbody>\n",
              "    <tr>\n",
              "      <th>290</th>\n",
              "      <td>-122.16</td>\n",
              "      <td>37.77</td>\n",
              "      <td>47</td>\n",
              "      <td>1256</td>\n",
              "      <td>NaN</td>\n",
              "      <td>570</td>\n",
              "      <td>218</td>\n",
              "      <td>4.3750</td>\n",
              "      <td>161900</td>\n",
              "      <td>NEAR BAY</td>\n",
              "    </tr>\n",
              "    <tr>\n",
              "      <th>341</th>\n",
              "      <td>-122.17</td>\n",
              "      <td>37.75</td>\n",
              "      <td>38</td>\n",
              "      <td>992</td>\n",
              "      <td>NaN</td>\n",
              "      <td>732</td>\n",
              "      <td>259</td>\n",
              "      <td>1.6196</td>\n",
              "      <td>85100</td>\n",
              "      <td>NEAR BAY</td>\n",
              "    </tr>\n",
              "    <tr>\n",
              "      <th>538</th>\n",
              "      <td>-122.28</td>\n",
              "      <td>37.78</td>\n",
              "      <td>29</td>\n",
              "      <td>5154</td>\n",
              "      <td>NaN</td>\n",
              "      <td>3741</td>\n",
              "      <td>1273</td>\n",
              "      <td>2.5762</td>\n",
              "      <td>173400</td>\n",
              "      <td>NEAR BAY</td>\n",
              "    </tr>\n",
              "    <tr>\n",
              "      <th>563</th>\n",
              "      <td>-122.24</td>\n",
              "      <td>37.75</td>\n",
              "      <td>45</td>\n",
              "      <td>891</td>\n",
              "      <td>NaN</td>\n",
              "      <td>384</td>\n",
              "      <td>146</td>\n",
              "      <td>4.9489</td>\n",
              "      <td>247100</td>\n",
              "      <td>NEAR BAY</td>\n",
              "    </tr>\n",
              "    <tr>\n",
              "      <th>696</th>\n",
              "      <td>-122.10</td>\n",
              "      <td>37.69</td>\n",
              "      <td>41</td>\n",
              "      <td>746</td>\n",
              "      <td>NaN</td>\n",
              "      <td>387</td>\n",
              "      <td>161</td>\n",
              "      <td>3.9063</td>\n",
              "      <td>178400</td>\n",
              "      <td>NEAR BAY</td>\n",
              "    </tr>\n",
              "    <tr>\n",
              "      <th>...</th>\n",
              "      <td>...</td>\n",
              "      <td>...</td>\n",
              "      <td>...</td>\n",
              "      <td>...</td>\n",
              "      <td>...</td>\n",
              "      <td>...</td>\n",
              "      <td>...</td>\n",
              "      <td>...</td>\n",
              "      <td>...</td>\n",
              "      <td>...</td>\n",
              "    </tr>\n",
              "    <tr>\n",
              "      <th>20267</th>\n",
              "      <td>-119.19</td>\n",
              "      <td>34.20</td>\n",
              "      <td>18</td>\n",
              "      <td>3620</td>\n",
              "      <td>NaN</td>\n",
              "      <td>3171</td>\n",
              "      <td>779</td>\n",
              "      <td>3.3409</td>\n",
              "      <td>220500</td>\n",
              "      <td>NEAR OCEAN</td>\n",
              "    </tr>\n",
              "    <tr>\n",
              "      <th>20268</th>\n",
              "      <td>-119.18</td>\n",
              "      <td>34.19</td>\n",
              "      <td>19</td>\n",
              "      <td>2393</td>\n",
              "      <td>NaN</td>\n",
              "      <td>1938</td>\n",
              "      <td>762</td>\n",
              "      <td>1.6953</td>\n",
              "      <td>167400</td>\n",
              "      <td>NEAR OCEAN</td>\n",
              "    </tr>\n",
              "    <tr>\n",
              "      <th>20372</th>\n",
              "      <td>-118.88</td>\n",
              "      <td>34.17</td>\n",
              "      <td>15</td>\n",
              "      <td>4260</td>\n",
              "      <td>NaN</td>\n",
              "      <td>1701</td>\n",
              "      <td>669</td>\n",
              "      <td>5.1033</td>\n",
              "      <td>410700</td>\n",
              "      <td>&lt;1H OCEAN</td>\n",
              "    </tr>\n",
              "    <tr>\n",
              "      <th>20460</th>\n",
              "      <td>-118.75</td>\n",
              "      <td>34.29</td>\n",
              "      <td>17</td>\n",
              "      <td>5512</td>\n",
              "      <td>NaN</td>\n",
              "      <td>2734</td>\n",
              "      <td>814</td>\n",
              "      <td>6.6073</td>\n",
              "      <td>258100</td>\n",
              "      <td>&lt;1H OCEAN</td>\n",
              "    </tr>\n",
              "    <tr>\n",
              "      <th>20484</th>\n",
              "      <td>-118.72</td>\n",
              "      <td>34.28</td>\n",
              "      <td>17</td>\n",
              "      <td>3051</td>\n",
              "      <td>NaN</td>\n",
              "      <td>1705</td>\n",
              "      <td>495</td>\n",
              "      <td>5.7376</td>\n",
              "      <td>218600</td>\n",
              "      <td>&lt;1H OCEAN</td>\n",
              "    </tr>\n",
              "  </tbody>\n",
              "</table>\n",
              "<p>207 rows × 10 columns</p>\n",
              "</div>\n",
              "    <div class=\"colab-df-buttons\">\n",
              "\n",
              "  <div class=\"colab-df-container\">\n",
              "    <button class=\"colab-df-convert\" onclick=\"convertToInteractive('df-20d3d1fd-1373-4721-8f3c-4d9689356e6b')\"\n",
              "            title=\"Convert this dataframe to an interactive table.\"\n",
              "            style=\"display:none;\">\n",
              "\n",
              "  <svg xmlns=\"http://www.w3.org/2000/svg\" height=\"24px\" viewBox=\"0 -960 960 960\">\n",
              "    <path d=\"M120-120v-720h720v720H120Zm60-500h600v-160H180v160Zm220 220h160v-160H400v160Zm0 220h160v-160H400v160ZM180-400h160v-160H180v160Zm440 0h160v-160H620v160ZM180-180h160v-160H180v160Zm440 0h160v-160H620v160Z\"/>\n",
              "  </svg>\n",
              "    </button>\n",
              "\n",
              "  <style>\n",
              "    .colab-df-container {\n",
              "      display:flex;\n",
              "      gap: 12px;\n",
              "    }\n",
              "\n",
              "    .colab-df-convert {\n",
              "      background-color: #E8F0FE;\n",
              "      border: none;\n",
              "      border-radius: 50%;\n",
              "      cursor: pointer;\n",
              "      display: none;\n",
              "      fill: #1967D2;\n",
              "      height: 32px;\n",
              "      padding: 0 0 0 0;\n",
              "      width: 32px;\n",
              "    }\n",
              "\n",
              "    .colab-df-convert:hover {\n",
              "      background-color: #E2EBFA;\n",
              "      box-shadow: 0px 1px 2px rgba(60, 64, 67, 0.3), 0px 1px 3px 1px rgba(60, 64, 67, 0.15);\n",
              "      fill: #174EA6;\n",
              "    }\n",
              "\n",
              "    .colab-df-buttons div {\n",
              "      margin-bottom: 4px;\n",
              "    }\n",
              "\n",
              "    [theme=dark] .colab-df-convert {\n",
              "      background-color: #3B4455;\n",
              "      fill: #D2E3FC;\n",
              "    }\n",
              "\n",
              "    [theme=dark] .colab-df-convert:hover {\n",
              "      background-color: #434B5C;\n",
              "      box-shadow: 0px 1px 3px 1px rgba(0, 0, 0, 0.15);\n",
              "      filter: drop-shadow(0px 1px 2px rgba(0, 0, 0, 0.3));\n",
              "      fill: #FFFFFF;\n",
              "    }\n",
              "  </style>\n",
              "\n",
              "    <script>\n",
              "      const buttonEl =\n",
              "        document.querySelector('#df-20d3d1fd-1373-4721-8f3c-4d9689356e6b button.colab-df-convert');\n",
              "      buttonEl.style.display =\n",
              "        google.colab.kernel.accessAllowed ? 'block' : 'none';\n",
              "\n",
              "      async function convertToInteractive(key) {\n",
              "        const element = document.querySelector('#df-20d3d1fd-1373-4721-8f3c-4d9689356e6b');\n",
              "        const dataTable =\n",
              "          await google.colab.kernel.invokeFunction('convertToInteractive',\n",
              "                                                    [key], {});\n",
              "        if (!dataTable) return;\n",
              "\n",
              "        const docLinkHtml = 'Like what you see? Visit the ' +\n",
              "          '<a target=\"_blank\" href=https://colab.research.google.com/notebooks/data_table.ipynb>data table notebook</a>'\n",
              "          + ' to learn more about interactive tables.';\n",
              "        element.innerHTML = '';\n",
              "        dataTable['output_type'] = 'display_data';\n",
              "        await google.colab.output.renderOutput(dataTable, element);\n",
              "        const docLink = document.createElement('div');\n",
              "        docLink.innerHTML = docLinkHtml;\n",
              "        element.appendChild(docLink);\n",
              "      }\n",
              "    </script>\n",
              "  </div>\n",
              "\n",
              "\n",
              "<div id=\"df-3f8194c0-b468-4b4a-9f30-09ee72eb2491\">\n",
              "  <button class=\"colab-df-quickchart\" onclick=\"quickchart('df-3f8194c0-b468-4b4a-9f30-09ee72eb2491')\"\n",
              "            title=\"Suggest charts.\"\n",
              "            style=\"display:none;\">\n",
              "\n",
              "<svg xmlns=\"http://www.w3.org/2000/svg\" height=\"24px\"viewBox=\"0 0 24 24\"\n",
              "     width=\"24px\">\n",
              "    <g>\n",
              "        <path d=\"M19 3H5c-1.1 0-2 .9-2 2v14c0 1.1.9 2 2 2h14c1.1 0 2-.9 2-2V5c0-1.1-.9-2-2-2zM9 17H7v-7h2v7zm4 0h-2V7h2v10zm4 0h-2v-4h2v4z\"/>\n",
              "    </g>\n",
              "</svg>\n",
              "  </button>\n",
              "\n",
              "<style>\n",
              "  .colab-df-quickchart {\n",
              "      --bg-color: #E8F0FE;\n",
              "      --fill-color: #1967D2;\n",
              "      --hover-bg-color: #E2EBFA;\n",
              "      --hover-fill-color: #174EA6;\n",
              "      --disabled-fill-color: #AAA;\n",
              "      --disabled-bg-color: #DDD;\n",
              "  }\n",
              "\n",
              "  [theme=dark] .colab-df-quickchart {\n",
              "      --bg-color: #3B4455;\n",
              "      --fill-color: #D2E3FC;\n",
              "      --hover-bg-color: #434B5C;\n",
              "      --hover-fill-color: #FFFFFF;\n",
              "      --disabled-bg-color: #3B4455;\n",
              "      --disabled-fill-color: #666;\n",
              "  }\n",
              "\n",
              "  .colab-df-quickchart {\n",
              "    background-color: var(--bg-color);\n",
              "    border: none;\n",
              "    border-radius: 50%;\n",
              "    cursor: pointer;\n",
              "    display: none;\n",
              "    fill: var(--fill-color);\n",
              "    height: 32px;\n",
              "    padding: 0;\n",
              "    width: 32px;\n",
              "  }\n",
              "\n",
              "  .colab-df-quickchart:hover {\n",
              "    background-color: var(--hover-bg-color);\n",
              "    box-shadow: 0 1px 2px rgba(60, 64, 67, 0.3), 0 1px 3px 1px rgba(60, 64, 67, 0.15);\n",
              "    fill: var(--button-hover-fill-color);\n",
              "  }\n",
              "\n",
              "  .colab-df-quickchart-complete:disabled,\n",
              "  .colab-df-quickchart-complete:disabled:hover {\n",
              "    background-color: var(--disabled-bg-color);\n",
              "    fill: var(--disabled-fill-color);\n",
              "    box-shadow: none;\n",
              "  }\n",
              "\n",
              "  .colab-df-spinner {\n",
              "    border: 2px solid var(--fill-color);\n",
              "    border-color: transparent;\n",
              "    border-bottom-color: var(--fill-color);\n",
              "    animation:\n",
              "      spin 1s steps(1) infinite;\n",
              "  }\n",
              "\n",
              "  @keyframes spin {\n",
              "    0% {\n",
              "      border-color: transparent;\n",
              "      border-bottom-color: var(--fill-color);\n",
              "      border-left-color: var(--fill-color);\n",
              "    }\n",
              "    20% {\n",
              "      border-color: transparent;\n",
              "      border-left-color: var(--fill-color);\n",
              "      border-top-color: var(--fill-color);\n",
              "    }\n",
              "    30% {\n",
              "      border-color: transparent;\n",
              "      border-left-color: var(--fill-color);\n",
              "      border-top-color: var(--fill-color);\n",
              "      border-right-color: var(--fill-color);\n",
              "    }\n",
              "    40% {\n",
              "      border-color: transparent;\n",
              "      border-right-color: var(--fill-color);\n",
              "      border-top-color: var(--fill-color);\n",
              "    }\n",
              "    60% {\n",
              "      border-color: transparent;\n",
              "      border-right-color: var(--fill-color);\n",
              "    }\n",
              "    80% {\n",
              "      border-color: transparent;\n",
              "      border-right-color: var(--fill-color);\n",
              "      border-bottom-color: var(--fill-color);\n",
              "    }\n",
              "    90% {\n",
              "      border-color: transparent;\n",
              "      border-bottom-color: var(--fill-color);\n",
              "    }\n",
              "  }\n",
              "</style>\n",
              "\n",
              "  <script>\n",
              "    async function quickchart(key) {\n",
              "      const quickchartButtonEl =\n",
              "        document.querySelector('#' + key + ' button');\n",
              "      quickchartButtonEl.disabled = true;  // To prevent multiple clicks.\n",
              "      quickchartButtonEl.classList.add('colab-df-spinner');\n",
              "      try {\n",
              "        const charts = await google.colab.kernel.invokeFunction(\n",
              "            'suggestCharts', [key], {});\n",
              "      } catch (error) {\n",
              "        console.error('Error during call to suggestCharts:', error);\n",
              "      }\n",
              "      quickchartButtonEl.classList.remove('colab-df-spinner');\n",
              "      quickchartButtonEl.classList.add('colab-df-quickchart-complete');\n",
              "    }\n",
              "    (() => {\n",
              "      let quickchartButtonEl =\n",
              "        document.querySelector('#df-3f8194c0-b468-4b4a-9f30-09ee72eb2491 button');\n",
              "      quickchartButtonEl.style.display =\n",
              "        google.colab.kernel.accessAllowed ? 'block' : 'none';\n",
              "    })();\n",
              "  </script>\n",
              "</div>\n",
              "    </div>\n",
              "  </div>\n"
            ]
          },
          "metadata": {},
          "execution_count": 116
        }
      ]
    },
    {
      "cell_type": "markdown",
      "source": [
        "* In the above code missing values are identifies by\n",
        "**isnul()** method.\n",
        "\n",
        "* Missing values are identified in column **total_bedrooms**\n"
      ],
      "metadata": {
        "id": "bwODMX-eQroY"
      }
    },
    {
      "cell_type": "code",
      "source": [
        "new_data =housing.dropna(subset=['total_bedrooms'])  ##dropna() method allows the user to analyze and drop Rows/Columns\n",
        "\n",
        "new_data"
      ],
      "metadata": {
        "id": "cUllqZCYRDf2"
      },
      "execution_count": null,
      "outputs": []
    },
    {
      "cell_type": "markdown",
      "source": [
        "* While in the above code the missing values are dropped from the column named'total_bedrooms'by using dropna() method."
      ],
      "metadata": {
        "id": "Cr5-T-tSSrln"
      }
    },
    {
      "cell_type": "markdown",
      "source": [
        "**5. Create a data set by filling the missing data with the mean value of the total_bedrooms in the original data set.**"
      ],
      "metadata": {
        "id": "nlI0bB3BVYBO"
      }
    },
    {
      "cell_type": "code",
      "source": [
        "np.mean(housing['total_bedrooms'])   #mean value of the total_bedrooms"
      ],
      "metadata": {
        "id": "QmL6HwsMWpKJ"
      },
      "execution_count": null,
      "outputs": []
    },
    {
      "cell_type": "code",
      "source": [
        "housing[\"total_bedrooms\"]=housing[\"total_bedrooms\"].fillna(housing['total_bedrooms'].mean()) # fillna is used to fill null values\n",
        "\n",
        "housing\n"
      ],
      "metadata": {
        "id": "lFfs0SlMVcOY"
      },
      "execution_count": null,
      "outputs": []
    },
    {
      "cell_type": "markdown",
      "source": [
        "* In the above code,a new dataset had been created where the missing values in the 'total_bedrooms'which are denoted by NaN are replaced with the mean value of the 'total_bedrooms'.\n",
        "\n",
        "* For eg:row no.290,696,563 and other rows with the missing values are replaced with the mean value of 'total_bedrooms' i.e.,537.8705525375617,respectively"
      ],
      "metadata": {
        "id": "uBlm1BZ3WRcv"
      }
    },
    {
      "cell_type": "markdown",
      "source": [
        "**6. Write a programming construct (create a user defined function) to calculate the median value of the data set wherever required.**"
      ],
      "metadata": {
        "id": "lXhTjqFvYcT7"
      }
    },
    {
      "cell_type": "code",
      "source": [
        "housing.head()    # head() returns first 5 rows of the dataset"
      ],
      "metadata": {
        "id": "FI95BwPJWXCC"
      },
      "execution_count": null,
      "outputs": []
    },
    {
      "cell_type": "markdown",
      "source": [
        "**Median**- It is also a center of sorted data and not sensitive to outliers. Commonly used by **continous** and **discrete** data.\n",
        "\n",
        "We can check median of dataframe by using:\n",
        " **np.meadian(housing['column_name])**"
      ],
      "metadata": {
        "id": "HjYIUTsMZ7Da"
      }
    },
    {
      "cell_type": "code",
      "source": [
        "np.median(housing['longitude'])    #median function() gives the median value that is 50th percentile of the set of all observations."
      ],
      "metadata": {
        "id": "MG-Wrr-QZnwb"
      },
      "execution_count": null,
      "outputs": []
    },
    {
      "cell_type": "markdown",
      "source": [
        "* From the above code we get median() value of **longitude** is **-118.49**"
      ],
      "metadata": {
        "id": "IYsKG1Nebosx"
      }
    },
    {
      "cell_type": "code",
      "source": [
        "np.median(housing['latitude'])    #median function() gives the median value that is 50th percentile of the set of all observations."
      ],
      "metadata": {
        "id": "80hy7gSzbcD7"
      },
      "execution_count": null,
      "outputs": []
    },
    {
      "cell_type": "markdown",
      "source": [
        "* The Median() value forf **latitude** is **34.26**"
      ],
      "metadata": {
        "id": "uHsgsk6bb_B5"
      }
    },
    {
      "cell_type": "code",
      "source": [
        "np.median(housing['housing_median_age'])  #median function() gives the median value that is 50th percentile of the set of all observations."
      ],
      "metadata": {
        "id": "_Udi0q0IcEQ7"
      },
      "execution_count": null,
      "outputs": []
    },
    {
      "cell_type": "markdown",
      "source": [
        "* The Median() value for **housing_median_age** is **29.0**"
      ],
      "metadata": {
        "id": "F9WgG8yPcGRr"
      }
    },
    {
      "cell_type": "code",
      "source": [
        "np.median(housing['total_rooms'])     #median function() gives the median value that is 50th percentile of the set of all observations."
      ],
      "metadata": {
        "id": "GDQd8sPPcZEh"
      },
      "execution_count": null,
      "outputs": []
    },
    {
      "cell_type": "markdown",
      "source": [
        "* The Median() value for **total_rooms** is **2127.0**"
      ],
      "metadata": {
        "id": "W0o0VdIEcwLc"
      }
    },
    {
      "cell_type": "code",
      "source": [
        "np.median(housing['total_bedrooms']) #median function() gives the median value that is 50th percentile of the set of all observations."
      ],
      "metadata": {
        "id": "ybIzP3EOcoDz"
      },
      "execution_count": null,
      "outputs": []
    },
    {
      "cell_type": "markdown",
      "source": [
        "* The Median() value for **total_bedrooms** is **438.0**"
      ],
      "metadata": {
        "id": "yDHhFLADdIzA"
      }
    },
    {
      "cell_type": "code",
      "source": [
        "np.median(housing['population']) #median function() gives the median value that is 50th percentile of the set of all observations."
      ],
      "metadata": {
        "id": "cwi4H4U-deOI"
      },
      "execution_count": null,
      "outputs": []
    },
    {
      "cell_type": "markdown",
      "source": [
        "* The Median() value for **population** is ***1166.0***"
      ],
      "metadata": {
        "id": "mzOZ5ZAwdS0u"
      }
    },
    {
      "cell_type": "code",
      "source": [
        "np.median(housing['households']) #median function() gives the median value that is 50th percentile of the set of all observations."
      ],
      "metadata": {
        "id": "5lI-m0mudrLW"
      },
      "execution_count": null,
      "outputs": []
    },
    {
      "cell_type": "markdown",
      "source": [
        "* The Median() value for **households** is ***409.0***"
      ],
      "metadata": {
        "id": "BypV7Goid0Wb"
      }
    },
    {
      "cell_type": "code",
      "source": [
        "np.median(housing['median_income']) #median function() gives the median value that is 50th percentile of the set of all observations."
      ],
      "metadata": {
        "id": "W5MUtQf1d7HM"
      },
      "execution_count": null,
      "outputs": []
    },
    {
      "cell_type": "markdown",
      "source": [
        "* The Median() value for **median_income** is ***3.5347***"
      ],
      "metadata": {
        "id": "D5pDTfZCef_2"
      }
    },
    {
      "cell_type": "code",
      "source": [
        "np.median(housing['median_house_value']) #median function() gives the median value that is 50th percentile of the set of all observations."
      ],
      "metadata": {
        "id": "BJdZLJbbea7u"
      },
      "execution_count": null,
      "outputs": []
    },
    {
      "cell_type": "markdown",
      "source": [
        "* The Median() value for **median_house_value** is **179700.0**"
      ],
      "metadata": {
        "id": "tGTYvlm7fAKa"
      }
    },
    {
      "cell_type": "markdown",
      "source": [
        "**7. Plot latitude versus longitude and explain your observations.**"
      ],
      "metadata": {
        "id": "8gxayDAwfNx6"
      }
    },
    {
      "cell_type": "code",
      "source": [
        "sns.scatterplot(x='latitude',y='longitude',data =housing)   # Scatter plot gives relationship between two numerical values.\n",
        "                                                              # x-Axis = latitude and y-Axis = longitude ."
      ],
      "metadata": {
        "id": "voT-CVrKgPeq"
      },
      "execution_count": null,
      "outputs": []
    },
    {
      "cell_type": "markdown",
      "source": [
        "From the above plot, we can say that that\n",
        "* With an decrease in longitude,latitude is increased.\n",
        "* I means latitude and longitude are not dependent on each other.\n",
        "* From this we can say that longitude is inversely proportional to latitude.\n",
        "\n",
        "* latitude vs longitude has negative correlation as here y-axis is increasing while x-axis is decreasing,i.e., both are moving in an opposite direction."
      ],
      "metadata": {
        "id": "QQ52zLOUg_ZA"
      }
    },
    {
      "cell_type": "markdown",
      "source": [
        "**8. Create a data set for which the ocean_proximity is ‘Near ocean’.**"
      ],
      "metadata": {
        "id": "dt4r2pAaqvdQ"
      }
    },
    {
      "cell_type": "code",
      "source": [
        "new_data= housing.loc[housing['ocean_proximity']=='NEAR OCEAN'] # loc is an label based method which is used to select rows and columns by Names/Labels.\n",
        "                                                            #loc is an essential pandas methods used for filtering,selecting and manipulating data.\n",
        "new_data"
      ],
      "metadata": {
        "colab": {
          "base_uri": "https://localhost:8080/",
          "height": 444
        },
        "id": "yNCrJ2YIq8Wl",
        "outputId": "1d7b67d2-0dac-4148-f82c-f79b05f339e6"
      },
      "execution_count": null,
      "outputs": [
        {
          "output_type": "execute_result",
          "data": {
            "text/plain": [
              "       longitude  latitude  housing_median_age  total_rooms  total_bedrooms  \\\n",
              "1850     -124.17     41.80                  16         2739           480.0   \n",
              "1851     -124.30     41.80                  19         2672           552.0   \n",
              "1852     -124.23     41.75                  11         3159           616.0   \n",
              "1853     -124.21     41.77                  17         3461           722.0   \n",
              "1854     -124.19     41.78                  15         3140           714.0   \n",
              "...          ...       ...                 ...          ...             ...   \n",
              "20380    -118.83     34.14                  16         1316           194.0   \n",
              "20381    -118.83     34.14                  16         1956           312.0   \n",
              "20423    -119.00     34.08                  17         1822           438.0   \n",
              "20424    -118.75     34.18                   4        16704          2704.0   \n",
              "20425    -118.75     34.17                  18         6217           858.0   \n",
              "\n",
              "       population  households  median_income  median_house_value  \\\n",
              "1850         1259         436         3.7557              109400   \n",
              "1851         1298         478         1.9797               85800   \n",
              "1852         1343         479         2.4805               73200   \n",
              "1853         1947         647         2.5795               68400   \n",
              "1854         1645         640         1.6654               74600   \n",
              "...           ...         ...            ...                 ...   \n",
              "20380         450         173        10.1597              500001   \n",
              "20381         671         319         6.4001              321800   \n",
              "20423         578         291         5.4346              428600   \n",
              "20424        6187        2207         6.6122              357600   \n",
              "20425        2703         834         6.8075              325900   \n",
              "\n",
              "      ocean_proximity  \n",
              "1850       NEAR OCEAN  \n",
              "1851       NEAR OCEAN  \n",
              "1852       NEAR OCEAN  \n",
              "1853       NEAR OCEAN  \n",
              "1854       NEAR OCEAN  \n",
              "...               ...  \n",
              "20380      NEAR OCEAN  \n",
              "20381      NEAR OCEAN  \n",
              "20423      NEAR OCEAN  \n",
              "20424      NEAR OCEAN  \n",
              "20425      NEAR OCEAN  \n",
              "\n",
              "[2658 rows x 10 columns]"
            ],
            "text/html": [
              "\n",
              "  <div id=\"df-98e8bc30-772a-471d-8a12-b05b87294af9\" class=\"colab-df-container\">\n",
              "    <div>\n",
              "<style scoped>\n",
              "    .dataframe tbody tr th:only-of-type {\n",
              "        vertical-align: middle;\n",
              "    }\n",
              "\n",
              "    .dataframe tbody tr th {\n",
              "        vertical-align: top;\n",
              "    }\n",
              "\n",
              "    .dataframe thead th {\n",
              "        text-align: right;\n",
              "    }\n",
              "</style>\n",
              "<table border=\"1\" class=\"dataframe\">\n",
              "  <thead>\n",
              "    <tr style=\"text-align: right;\">\n",
              "      <th></th>\n",
              "      <th>longitude</th>\n",
              "      <th>latitude</th>\n",
              "      <th>housing_median_age</th>\n",
              "      <th>total_rooms</th>\n",
              "      <th>total_bedrooms</th>\n",
              "      <th>population</th>\n",
              "      <th>households</th>\n",
              "      <th>median_income</th>\n",
              "      <th>median_house_value</th>\n",
              "      <th>ocean_proximity</th>\n",
              "    </tr>\n",
              "  </thead>\n",
              "  <tbody>\n",
              "    <tr>\n",
              "      <th>1850</th>\n",
              "      <td>-124.17</td>\n",
              "      <td>41.80</td>\n",
              "      <td>16</td>\n",
              "      <td>2739</td>\n",
              "      <td>480.0</td>\n",
              "      <td>1259</td>\n",
              "      <td>436</td>\n",
              "      <td>3.7557</td>\n",
              "      <td>109400</td>\n",
              "      <td>NEAR OCEAN</td>\n",
              "    </tr>\n",
              "    <tr>\n",
              "      <th>1851</th>\n",
              "      <td>-124.30</td>\n",
              "      <td>41.80</td>\n",
              "      <td>19</td>\n",
              "      <td>2672</td>\n",
              "      <td>552.0</td>\n",
              "      <td>1298</td>\n",
              "      <td>478</td>\n",
              "      <td>1.9797</td>\n",
              "      <td>85800</td>\n",
              "      <td>NEAR OCEAN</td>\n",
              "    </tr>\n",
              "    <tr>\n",
              "      <th>1852</th>\n",
              "      <td>-124.23</td>\n",
              "      <td>41.75</td>\n",
              "      <td>11</td>\n",
              "      <td>3159</td>\n",
              "      <td>616.0</td>\n",
              "      <td>1343</td>\n",
              "      <td>479</td>\n",
              "      <td>2.4805</td>\n",
              "      <td>73200</td>\n",
              "      <td>NEAR OCEAN</td>\n",
              "    </tr>\n",
              "    <tr>\n",
              "      <th>1853</th>\n",
              "      <td>-124.21</td>\n",
              "      <td>41.77</td>\n",
              "      <td>17</td>\n",
              "      <td>3461</td>\n",
              "      <td>722.0</td>\n",
              "      <td>1947</td>\n",
              "      <td>647</td>\n",
              "      <td>2.5795</td>\n",
              "      <td>68400</td>\n",
              "      <td>NEAR OCEAN</td>\n",
              "    </tr>\n",
              "    <tr>\n",
              "      <th>1854</th>\n",
              "      <td>-124.19</td>\n",
              "      <td>41.78</td>\n",
              "      <td>15</td>\n",
              "      <td>3140</td>\n",
              "      <td>714.0</td>\n",
              "      <td>1645</td>\n",
              "      <td>640</td>\n",
              "      <td>1.6654</td>\n",
              "      <td>74600</td>\n",
              "      <td>NEAR OCEAN</td>\n",
              "    </tr>\n",
              "    <tr>\n",
              "      <th>...</th>\n",
              "      <td>...</td>\n",
              "      <td>...</td>\n",
              "      <td>...</td>\n",
              "      <td>...</td>\n",
              "      <td>...</td>\n",
              "      <td>...</td>\n",
              "      <td>...</td>\n",
              "      <td>...</td>\n",
              "      <td>...</td>\n",
              "      <td>...</td>\n",
              "    </tr>\n",
              "    <tr>\n",
              "      <th>20380</th>\n",
              "      <td>-118.83</td>\n",
              "      <td>34.14</td>\n",
              "      <td>16</td>\n",
              "      <td>1316</td>\n",
              "      <td>194.0</td>\n",
              "      <td>450</td>\n",
              "      <td>173</td>\n",
              "      <td>10.1597</td>\n",
              "      <td>500001</td>\n",
              "      <td>NEAR OCEAN</td>\n",
              "    </tr>\n",
              "    <tr>\n",
              "      <th>20381</th>\n",
              "      <td>-118.83</td>\n",
              "      <td>34.14</td>\n",
              "      <td>16</td>\n",
              "      <td>1956</td>\n",
              "      <td>312.0</td>\n",
              "      <td>671</td>\n",
              "      <td>319</td>\n",
              "      <td>6.4001</td>\n",
              "      <td>321800</td>\n",
              "      <td>NEAR OCEAN</td>\n",
              "    </tr>\n",
              "    <tr>\n",
              "      <th>20423</th>\n",
              "      <td>-119.00</td>\n",
              "      <td>34.08</td>\n",
              "      <td>17</td>\n",
              "      <td>1822</td>\n",
              "      <td>438.0</td>\n",
              "      <td>578</td>\n",
              "      <td>291</td>\n",
              "      <td>5.4346</td>\n",
              "      <td>428600</td>\n",
              "      <td>NEAR OCEAN</td>\n",
              "    </tr>\n",
              "    <tr>\n",
              "      <th>20424</th>\n",
              "      <td>-118.75</td>\n",
              "      <td>34.18</td>\n",
              "      <td>4</td>\n",
              "      <td>16704</td>\n",
              "      <td>2704.0</td>\n",
              "      <td>6187</td>\n",
              "      <td>2207</td>\n",
              "      <td>6.6122</td>\n",
              "      <td>357600</td>\n",
              "      <td>NEAR OCEAN</td>\n",
              "    </tr>\n",
              "    <tr>\n",
              "      <th>20425</th>\n",
              "      <td>-118.75</td>\n",
              "      <td>34.17</td>\n",
              "      <td>18</td>\n",
              "      <td>6217</td>\n",
              "      <td>858.0</td>\n",
              "      <td>2703</td>\n",
              "      <td>834</td>\n",
              "      <td>6.8075</td>\n",
              "      <td>325900</td>\n",
              "      <td>NEAR OCEAN</td>\n",
              "    </tr>\n",
              "  </tbody>\n",
              "</table>\n",
              "<p>2658 rows × 10 columns</p>\n",
              "</div>\n",
              "    <div class=\"colab-df-buttons\">\n",
              "\n",
              "  <div class=\"colab-df-container\">\n",
              "    <button class=\"colab-df-convert\" onclick=\"convertToInteractive('df-98e8bc30-772a-471d-8a12-b05b87294af9')\"\n",
              "            title=\"Convert this dataframe to an interactive table.\"\n",
              "            style=\"display:none;\">\n",
              "\n",
              "  <svg xmlns=\"http://www.w3.org/2000/svg\" height=\"24px\" viewBox=\"0 -960 960 960\">\n",
              "    <path d=\"M120-120v-720h720v720H120Zm60-500h600v-160H180v160Zm220 220h160v-160H400v160Zm0 220h160v-160H400v160ZM180-400h160v-160H180v160Zm440 0h160v-160H620v160ZM180-180h160v-160H180v160Zm440 0h160v-160H620v160Z\"/>\n",
              "  </svg>\n",
              "    </button>\n",
              "\n",
              "  <style>\n",
              "    .colab-df-container {\n",
              "      display:flex;\n",
              "      gap: 12px;\n",
              "    }\n",
              "\n",
              "    .colab-df-convert {\n",
              "      background-color: #E8F0FE;\n",
              "      border: none;\n",
              "      border-radius: 50%;\n",
              "      cursor: pointer;\n",
              "      display: none;\n",
              "      fill: #1967D2;\n",
              "      height: 32px;\n",
              "      padding: 0 0 0 0;\n",
              "      width: 32px;\n",
              "    }\n",
              "\n",
              "    .colab-df-convert:hover {\n",
              "      background-color: #E2EBFA;\n",
              "      box-shadow: 0px 1px 2px rgba(60, 64, 67, 0.3), 0px 1px 3px 1px rgba(60, 64, 67, 0.15);\n",
              "      fill: #174EA6;\n",
              "    }\n",
              "\n",
              "    .colab-df-buttons div {\n",
              "      margin-bottom: 4px;\n",
              "    }\n",
              "\n",
              "    [theme=dark] .colab-df-convert {\n",
              "      background-color: #3B4455;\n",
              "      fill: #D2E3FC;\n",
              "    }\n",
              "\n",
              "    [theme=dark] .colab-df-convert:hover {\n",
              "      background-color: #434B5C;\n",
              "      box-shadow: 0px 1px 3px 1px rgba(0, 0, 0, 0.15);\n",
              "      filter: drop-shadow(0px 1px 2px rgba(0, 0, 0, 0.3));\n",
              "      fill: #FFFFFF;\n",
              "    }\n",
              "  </style>\n",
              "\n",
              "    <script>\n",
              "      const buttonEl =\n",
              "        document.querySelector('#df-98e8bc30-772a-471d-8a12-b05b87294af9 button.colab-df-convert');\n",
              "      buttonEl.style.display =\n",
              "        google.colab.kernel.accessAllowed ? 'block' : 'none';\n",
              "\n",
              "      async function convertToInteractive(key) {\n",
              "        const element = document.querySelector('#df-98e8bc30-772a-471d-8a12-b05b87294af9');\n",
              "        const dataTable =\n",
              "          await google.colab.kernel.invokeFunction('convertToInteractive',\n",
              "                                                    [key], {});\n",
              "        if (!dataTable) return;\n",
              "\n",
              "        const docLinkHtml = 'Like what you see? Visit the ' +\n",
              "          '<a target=\"_blank\" href=https://colab.research.google.com/notebooks/data_table.ipynb>data table notebook</a>'\n",
              "          + ' to learn more about interactive tables.';\n",
              "        element.innerHTML = '';\n",
              "        dataTable['output_type'] = 'display_data';\n",
              "        await google.colab.output.renderOutput(dataTable, element);\n",
              "        const docLink = document.createElement('div');\n",
              "        docLink.innerHTML = docLinkHtml;\n",
              "        element.appendChild(docLink);\n",
              "      }\n",
              "    </script>\n",
              "  </div>\n",
              "\n",
              "\n",
              "<div id=\"df-ec2260df-f215-41e2-9f4d-46306a04c006\">\n",
              "  <button class=\"colab-df-quickchart\" onclick=\"quickchart('df-ec2260df-f215-41e2-9f4d-46306a04c006')\"\n",
              "            title=\"Suggest charts.\"\n",
              "            style=\"display:none;\">\n",
              "\n",
              "<svg xmlns=\"http://www.w3.org/2000/svg\" height=\"24px\"viewBox=\"0 0 24 24\"\n",
              "     width=\"24px\">\n",
              "    <g>\n",
              "        <path d=\"M19 3H5c-1.1 0-2 .9-2 2v14c0 1.1.9 2 2 2h14c1.1 0 2-.9 2-2V5c0-1.1-.9-2-2-2zM9 17H7v-7h2v7zm4 0h-2V7h2v10zm4 0h-2v-4h2v4z\"/>\n",
              "    </g>\n",
              "</svg>\n",
              "  </button>\n",
              "\n",
              "<style>\n",
              "  .colab-df-quickchart {\n",
              "      --bg-color: #E8F0FE;\n",
              "      --fill-color: #1967D2;\n",
              "      --hover-bg-color: #E2EBFA;\n",
              "      --hover-fill-color: #174EA6;\n",
              "      --disabled-fill-color: #AAA;\n",
              "      --disabled-bg-color: #DDD;\n",
              "  }\n",
              "\n",
              "  [theme=dark] .colab-df-quickchart {\n",
              "      --bg-color: #3B4455;\n",
              "      --fill-color: #D2E3FC;\n",
              "      --hover-bg-color: #434B5C;\n",
              "      --hover-fill-color: #FFFFFF;\n",
              "      --disabled-bg-color: #3B4455;\n",
              "      --disabled-fill-color: #666;\n",
              "  }\n",
              "\n",
              "  .colab-df-quickchart {\n",
              "    background-color: var(--bg-color);\n",
              "    border: none;\n",
              "    border-radius: 50%;\n",
              "    cursor: pointer;\n",
              "    display: none;\n",
              "    fill: var(--fill-color);\n",
              "    height: 32px;\n",
              "    padding: 0;\n",
              "    width: 32px;\n",
              "  }\n",
              "\n",
              "  .colab-df-quickchart:hover {\n",
              "    background-color: var(--hover-bg-color);\n",
              "    box-shadow: 0 1px 2px rgba(60, 64, 67, 0.3), 0 1px 3px 1px rgba(60, 64, 67, 0.15);\n",
              "    fill: var(--button-hover-fill-color);\n",
              "  }\n",
              "\n",
              "  .colab-df-quickchart-complete:disabled,\n",
              "  .colab-df-quickchart-complete:disabled:hover {\n",
              "    background-color: var(--disabled-bg-color);\n",
              "    fill: var(--disabled-fill-color);\n",
              "    box-shadow: none;\n",
              "  }\n",
              "\n",
              "  .colab-df-spinner {\n",
              "    border: 2px solid var(--fill-color);\n",
              "    border-color: transparent;\n",
              "    border-bottom-color: var(--fill-color);\n",
              "    animation:\n",
              "      spin 1s steps(1) infinite;\n",
              "  }\n",
              "\n",
              "  @keyframes spin {\n",
              "    0% {\n",
              "      border-color: transparent;\n",
              "      border-bottom-color: var(--fill-color);\n",
              "      border-left-color: var(--fill-color);\n",
              "    }\n",
              "    20% {\n",
              "      border-color: transparent;\n",
              "      border-left-color: var(--fill-color);\n",
              "      border-top-color: var(--fill-color);\n",
              "    }\n",
              "    30% {\n",
              "      border-color: transparent;\n",
              "      border-left-color: var(--fill-color);\n",
              "      border-top-color: var(--fill-color);\n",
              "      border-right-color: var(--fill-color);\n",
              "    }\n",
              "    40% {\n",
              "      border-color: transparent;\n",
              "      border-right-color: var(--fill-color);\n",
              "      border-top-color: var(--fill-color);\n",
              "    }\n",
              "    60% {\n",
              "      border-color: transparent;\n",
              "      border-right-color: var(--fill-color);\n",
              "    }\n",
              "    80% {\n",
              "      border-color: transparent;\n",
              "      border-right-color: var(--fill-color);\n",
              "      border-bottom-color: var(--fill-color);\n",
              "    }\n",
              "    90% {\n",
              "      border-color: transparent;\n",
              "      border-bottom-color: var(--fill-color);\n",
              "    }\n",
              "  }\n",
              "</style>\n",
              "\n",
              "  <script>\n",
              "    async function quickchart(key) {\n",
              "      const quickchartButtonEl =\n",
              "        document.querySelector('#' + key + ' button');\n",
              "      quickchartButtonEl.disabled = true;  // To prevent multiple clicks.\n",
              "      quickchartButtonEl.classList.add('colab-df-spinner');\n",
              "      try {\n",
              "        const charts = await google.colab.kernel.invokeFunction(\n",
              "            'suggestCharts', [key], {});\n",
              "      } catch (error) {\n",
              "        console.error('Error during call to suggestCharts:', error);\n",
              "      }\n",
              "      quickchartButtonEl.classList.remove('colab-df-spinner');\n",
              "      quickchartButtonEl.classList.add('colab-df-quickchart-complete');\n",
              "    }\n",
              "    (() => {\n",
              "      let quickchartButtonEl =\n",
              "        document.querySelector('#df-ec2260df-f215-41e2-9f4d-46306a04c006 button');\n",
              "      quickchartButtonEl.style.display =\n",
              "        google.colab.kernel.accessAllowed ? 'block' : 'none';\n",
              "    })();\n",
              "  </script>\n",
              "</div>\n",
              "    </div>\n",
              "  </div>\n"
            ]
          },
          "metadata": {},
          "execution_count": 117
        }
      ]
    },
    {
      "cell_type": "markdown",
      "source": [
        "* We have created **new_data** set for which the ocean_proximity is ‘Near ocean’."
      ],
      "metadata": {
        "id": "hlT7czu2tOox"
      }
    },
    {
      "cell_type": "markdown",
      "source": [
        "**9. Find the mean and median of the median income for the data set created in question 8.**"
      ],
      "metadata": {
        "id": "INJQlIhEtGij"
      }
    },
    {
      "cell_type": "code",
      "source": [
        "new_data['median_income'].mean()  # mean gives average of data.\n",
        "                                    # mean is applicable for discrete,continous data but not for categorical data."
      ],
      "metadata": {
        "id": "TlhvgdqZtIGY"
      },
      "execution_count": null,
      "outputs": []
    },
    {
      "cell_type": "markdown",
      "source": [
        "* **Mean** value for median_income in new data is **4.00578**"
      ],
      "metadata": {
        "id": "02EsRBYbu84_"
      }
    },
    {
      "cell_type": "code",
      "source": [
        "new_data['median_income'].median()  # median gives the 50 percentile of the set of all observation.\n",
        "                                    # median is not sensitive to outliers."
      ],
      "metadata": {
        "id": "7Ri377Gjt2JO"
      },
      "execution_count": null,
      "outputs": []
    },
    {
      "cell_type": "markdown",
      "source": [
        "* **Median** value for median_income in new data is **3.64705**"
      ],
      "metadata": {
        "id": "NVr4OV_Ruo3S"
      }
    },
    {
      "cell_type": "markdown",
      "source": [
        "**10. Please create a new column named total_bedroom_size. If the total bedrooms is 10 or less, it should be quoted as small. If the total bedrooms is 11 or more but less than 1000, it should be medium, otherwise it should be considered large.**\n",
        "\n"
      ],
      "metadata": {
        "id": "ia6CxvRNvBfT"
      }
    },
    {
      "cell_type": "code",
      "source": [
        "# Use a lambda function with .map() to create the 'Age_Group' column\n",
        "housing['total_bedroom_size'] = housing['total_bedrooms'].map(lambda total_bedrooms: 'small' if total_bedrooms <=10 else ('medium' if (total_bedrooms >=11 and total_bedrooms <=1000) else 'large'))\n",
        "\n",
        "# Display the updated DataFrame\n",
        "housing"
      ],
      "metadata": {
        "id": "d14BbKjlvJH-"
      },
      "execution_count": null,
      "outputs": []
    },
    {
      "cell_type": "markdown",
      "source": [
        "* In the above data set a new column named total_bedroom_size had been added.\n",
        "\n",
        "* If the total_bedroom_size <=10 it is indicated as \"small\" If the total_bedroom_size >=11 or <=1000 it is indicated as \"medium\" If the total_bedroom_size >1000 it is indicated as \"large\""
      ],
      "metadata": {
        "id": "ZK0ZUSmIyLb7"
      }
    },
    {
      "cell_type": "markdown",
      "source": [
        "**CONCLUSION**: 1.The given dataset reveals the presence of outliers in the \"housing_median_age\" and \"median_house_value\" attributes.\n",
        "\n",
        "2.All the attributes in this dataset are either of float or integer data types, except for \"ocean_proximity,\" which is recorded as an object data type.\n",
        "\n",
        "3.housing_median_age is of fairly symmetric as the skewness value (-0.5 to -0.1).\n",
        "\n",
        "4.Plot between median_income vs median_house_values is directly proportional to each other as it has **positive correlation.**\n",
        "\n",
        "5.Plot between latitude and longitude is inversely proportional to each other as within increase in latitude,there is decrease in longitude.Therefore ,it has a **negative correlation.**"
      ],
      "metadata": {
        "id": "vNYvWnaXyYRc"
      }
    },
    {
      "cell_type": "markdown",
      "source": [
        "\n",
        "\n",
        "**Thankyou!**\n",
        "\n"
      ],
      "metadata": {
        "id": "xPB5nZZR_cid"
      }
    },
    {
      "cell_type": "code",
      "source": [],
      "metadata": {
        "id": "i6HYyx_l_i8H"
      },
      "execution_count": null,
      "outputs": []
    }
  ]
}